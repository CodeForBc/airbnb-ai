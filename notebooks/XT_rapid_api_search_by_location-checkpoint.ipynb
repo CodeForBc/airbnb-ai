{
 "cells": [
  {
   "cell_type": "code",
   "execution_count": 2,
   "id": "f3932fef",
   "metadata": {},
   "outputs": [],
   "source": [
    "import os\n",
    "from dotenv import load_dotenv\n",
    "import requests\n",
    "from pprint import pprint\n",
    "# Load environment variables from .env file\n",
    "load_dotenv()\n",
    "\n",
    "rapidapi_key = os.getenv('RAPIDAPI_KEY')\n",
    "# API call Search by location https://rapidapi.com/3b-data-3b-data-default/api/airbnb13/\n",
    "\n",
    "url = \"https://airbnb13.p.rapidapi.com/search-location\"\n",
    "\n",
    "querystring = {\"location\":\"Kelowna\",\"checkin\":\"2025-01-12\",\"checkout\":\"2025-01-13\",\"adults\":\"2\",\"children\":\"0\",\"infants\":\"0\",\n",
    "               \"pets\":\"0\",\"page\":\"2\",\"currency\":\"CAD\"}\n",
    "\n",
    "headers = {\n",
    "\t\"x-rapidapi-key\": rapidapi_key,\n",
    "\t\"x-rapidapi-host\": \"airbnb13.p.rapidapi.com\",\n",
    "\t\"Content-Type\": \"application/json\"\n",
    "}\n",
    "response = requests.get(url, headers=headers, params=querystring)"
   ]
  },
  {
   "cell_type": "code",
   "execution_count": null,
   "id": "ea34c91a",
   "metadata": {},
   "outputs": [],
   "source": []
  }
 ],
 "metadata": {
  "kernelspec": {
   "display_name": "Python 3 (ipykernel)",
   "language": "python",
   "name": "python3"
  },
  "language_info": {
   "codemirror_mode": {
    "name": "ipython",
    "version": 3
   },
   "file_extension": ".py",
   "mimetype": "text/x-python",
   "name": "python",
   "nbconvert_exporter": "python",
   "pygments_lexer": "ipython3",
   "version": "3.11.5"
  }
 },
 "nbformat": 4,
 "nbformat_minor": 5
}
