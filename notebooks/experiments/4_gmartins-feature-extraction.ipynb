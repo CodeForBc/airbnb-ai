{
 "cells": [
  {
   "cell_type": "code",
   "execution_count": 106,
   "id": "297a7de3-2f0a-46ed-af50-b84b9ae08e77",
   "metadata": {},
   "outputs": [],
   "source": [
    "import os\n",
    "from dotenv import load_dotenv\n",
    "import google.generativeai as genai\n",
    "import re\n",
    "import pandas as pd\n",
    "import json"
   ]
  },
  {
   "cell_type": "markdown",
   "id": "d2f3c3cd",
   "metadata": {},
   "source": [
    "## LLM Gemini model preparation\n",
    "\n",
    "Please get your GEMINI_API_KEY in Google AI Studio first, then add it to `.env` file in the root directory in the same way shown in `.env_example` file."
   ]
  },
  {
   "cell_type": "code",
   "execution_count": 98,
   "id": "4da19262-44e9-4eae-a80c-79016e044777",
   "metadata": {},
   "outputs": [],
   "source": [
    "# Load environment variables from .env file\n",
    "load_dotenv()\n",
    "\n",
    "genai.configure(api_key=os.environ[\"GEMINI_API_KEY\"])"
   ]
  },
  {
   "cell_type": "markdown",
   "id": "7988e9b4-e100-465d-86de-65c42ae49eaa",
   "metadata": {},
   "source": [
    "Gemini 1.5 Flash\n",
    "\n",
    "Rate Limits:\n",
    "\n",
    "- 15 RPM (requests per minute)\n",
    "\n",
    "- 1 million TPM (tokens per minute)\n",
    "\n",
    "- 1,500 RPD (requests per day)\n",
    "\n",
    "Price (input)\n",
    "\n",
    "- Free of charge"
   ]
  },
  {
   "cell_type": "code",
   "execution_count": 273,
   "id": "1d197107",
   "metadata": {},
   "outputs": [],
   "source": [
    "# Create the model\n",
    "# See https://ai.google.dev/api/python/google/generativeai/GenerativeModel\n",
    "generation_config = {\n",
    "    \"temperature\": 0,\n",
    "    \"top_p\": 0.95,\n",
    "    \"top_k\": 64,\n",
    "    \"max_output_tokens\": 1024,\n",
    "    \"response_mime_type\": \"text/plain\",\n",
    "}\n",
    "\n",
    "SYSTEM_PROMPT = \"\"\"\n",
    "You are a helpful assistant. You will analyze the given text and provide a JSON response indicating whether the text mentions or suggests certain things. Please follow these guidelines:\n",
    "1. \"is_bathroom_shared\": Check if there is any mention of a shared bathroom. Ignore mentions of other shared amenities like \"shared kitchen\" or \"shared laundry\". Look for keywords like \"shared bathroom\", \"bathroom shared\", \"bathroom is shared\", etc.\n",
    "2. \"is_kitchen_shared\": Check if there is any mention of a shared kitchen. Ignore mentions of other shared amenities like \"shared bathroom\" or \"shared laundry\". Look for keywords like \"shared kitchen\", \"kitchen shared\", \"kitchen is shared\", etc.\n",
    "3. \"is_host_in_unit\": Check if there is any mention of the host living in the same unit, apartment or house as the guest. Look for keywords like \"live in the unit\", \"live next door\", etc.\n",
    "4. \"is_host_on_prem\": Check if there is any mention of the host living on premises. Look for keywords like \"live on premises\", \"live in the same building\", \"live on-site\", etc.\n",
    "5. \"shared_utilities\": Check if there is any mention of shared utilities or facilities. Ignore mentions of other shared amenities like \"shared kitchen\" or \"shared bathroom\". Look for keywords like \"shared laundry\", \"shared laundry room\", \"laundry shared\", \"laundry is shared\", \"shared electricity\", \"shared internet\", \"shared cable TV\", etc.\n",
    "6. \"is_entrance_separate\": Check if there is any mention of separate entrance. Look for keywords like \"private entrance\", \"separate entrance\", etc.\n",
    "7. \"other_guests_on_prem\": Check if there is any mention of other guests living on the premises/house/apt/apartment or anything indicating that there will be other guests on the premises.\n",
    "8. \"host_profile_mentioned\": Check if there is any mention of the host's profile being Superhost or similar detail.\n",
    "9. \"property_separate_suite\": Check if there is any mention of private or separate suites/apartments. Look for keywords like \"private suite\", \"separate suite\", \"separate apartments\", etc.\n",
    "10. \"host_interaction\": Check if there is any mention of limited or no interaction with the host.\n",
    "11. \"house_rules_host_indication\": Check if there is any mention of any specific rule indicating the host's presence. Look for keywords like \"noise\", \"noise levels\", \"no noise\", \"curfew\", \"limited time\" \"from 10am to 10pm\", \"until 10pm\", etc.\n",
    "12. \"listing_personal_touches\": Check if there is any mention of language in the text suggesting personal touches.\n",
    "13. \"entire_property\": Check if there is any mention of the property type being listed. Ignore mentions of other property types like \"entire room\", \"private room\" or \"shared room\". Look for keywords like \"entire home\", \"entire house\", \"entire studio\", \"entire apt\", \"entire apartment\", \"entire condo\", \"entire penthouse\", \"whole house\", \"whole apartment\", \"whole studio\", etc.\n",
    "14. \"host_additional_services\": Check if there is any mention of host offering services, therefore, indicating their presence. Look for keywords like \"breakfast\", \"breakfast provided\", \"breakfast included\", \"meals provided\", \"meal provided\", \"meal included\", \"available upon request\", etc.\n",
    "15. \"has_self_check_in\": Check if there is any menition of guest self check-in. Look for keywords like \"self check-in\", \"self check in\", \"self checkin\", etc.\n",
    "\n",
    "Respond with a JSON formatted output. No additional text, markdown, details or annotations required:\n",
    "{\n",
    "  \"is_bathroom_shared\": <true/false>,\n",
    "  \"is_kitched_shared\": <true/false>,\n",
    "  \"is_host_on_prem\": <true/false>,\n",
    "  \"other_guests_on_prem\": <true/false>, \n",
    "  ...\n",
    "}\n",
    "\"\"\"\n",
    "\n",
    "model = genai.GenerativeModel(\n",
    "    model_name=\"gemini-1.5-flash-latest\",\n",
    "    generation_config=generation_config,\n",
    "    system_instruction=SYSTEM_PROMPT\n",
    ")"
   ]
  },
  {
   "cell_type": "markdown",
   "id": "5c052179",
   "metadata": {},
   "source": [
    "## Data preparation"
   ]
  },
  {
   "cell_type": "code",
   "execution_count": 274,
   "id": "b9f874ab",
   "metadata": {},
   "outputs": [],
   "source": [
    "# Specify the path to your .jsonl file\n",
    "file_path = '../../data/description_parsing/descriptions_output.jsonl'\n",
    "\n",
    "# Read the .jsonl file into a DataFrame\n",
    "df = pd.read_json(file_path, lines=True)"
   ]
  },
  {
   "cell_type": "code",
   "execution_count": 275,
   "id": "fcd3671e",
   "metadata": {},
   "outputs": [
    {
     "name": "stdout",
     "output_type": "stream",
     "text": [
      "(1387, 7)\n"
     ]
    },
    {
     "data": {
      "text/html": [
       "<div>\n",
       "<style scoped>\n",
       "    .dataframe tbody tr th:only-of-type {\n",
       "        vertical-align: middle;\n",
       "    }\n",
       "\n",
       "    .dataframe tbody tr th {\n",
       "        vertical-align: top;\n",
       "    }\n",
       "\n",
       "    .dataframe thead th {\n",
       "        text-align: right;\n",
       "    }\n",
       "</style>\n",
       "<table border=\"1\" class=\"dataframe\">\n",
       "  <thead>\n",
       "    <tr style=\"text-align: right;\">\n",
       "      <th></th>\n",
       "      <th>listing_id</th>\n",
       "      <th>place_description</th>\n",
       "      <th>the_space_description</th>\n",
       "      <th>guest_access_description</th>\n",
       "      <th>other_things_to_note_description</th>\n",
       "      <th>registration_number_description</th>\n",
       "      <th>during_your_stay_description</th>\n",
       "    </tr>\n",
       "  </thead>\n",
       "  <tbody>\n",
       "    <tr>\n",
       "      <th>0</th>\n",
       "      <td>944162829781112704</td>\n",
       "      <td>Welcome to our brand new and beautiful apartme...</td>\n",
       "      <td>You will enjoy the quiet and private room with...</td>\n",
       "      <td>This is a private big bedroom with a private b...</td>\n",
       "      <td>1) The private bathroom is not inside the room...</td>\n",
       "      <td>NaN</td>\n",
       "      <td>NaN</td>\n",
       "    </tr>\n",
       "    <tr>\n",
       "      <th>1</th>\n",
       "      <td>1045877421386474496</td>\n",
       "      <td>Enjoy a luxury, comfortable stay in this brigh...</td>\n",
       "      <td>NaN</td>\n",
       "      <td>NaN</td>\n",
       "      <td>NaN</td>\n",
       "      <td>00180521</td>\n",
       "      <td>NaN</td>\n",
       "    </tr>\n",
       "    <tr>\n",
       "      <th>2</th>\n",
       "      <td>13131513</td>\n",
       "      <td>Enjoy living in Vancouver’s premier neighbourh...</td>\n",
       "      <td>Freshly painted walls, designer sheets, heated...</td>\n",
       "      <td>During your trip you will have unfettered acce...</td>\n",
       "      <td>.</td>\n",
       "      <td>24-160094</td>\n",
       "      <td>Our host guest relationship is of the utmost i...</td>\n",
       "    </tr>\n",
       "    <tr>\n",
       "      <th>3</th>\n",
       "      <td>873338302587192320</td>\n",
       "      <td>We have a comfortable suite with a separate en...</td>\n",
       "      <td>Welcome to our Apollo Sunset Suite! &lt;br /&gt;We l...</td>\n",
       "      <td>-Internet (Telus PureFibre Internet Gigabit, t...</td>\n",
       "      <td>There are Save on Food Supermarket, Shoppers, ...</td>\n",
       "      <td>00136310</td>\n",
       "      <td>NaN</td>\n",
       "    </tr>\n",
       "    <tr>\n",
       "      <th>4</th>\n",
       "      <td>874351314046879488</td>\n",
       "      <td>Spend a night in this unique music studio! &lt;br...</td>\n",
       "      <td>Cozy bedroom with desk, piano and comfy bed. &lt;...</td>\n",
       "      <td>Guests will have access to the basement suite ...</td>\n",
       "      <td>There are only a handful of in-person music le...</td>\n",
       "      <td>NaN</td>\n",
       "      <td>Send a message through the app if you need any...</td>\n",
       "    </tr>\n",
       "  </tbody>\n",
       "</table>\n",
       "</div>"
      ],
      "text/plain": [
       "            listing_id                                  place_description  \\\n",
       "0   944162829781112704  Welcome to our brand new and beautiful apartme...   \n",
       "1  1045877421386474496  Enjoy a luxury, comfortable stay in this brigh...   \n",
       "2             13131513  Enjoy living in Vancouver’s premier neighbourh...   \n",
       "3   873338302587192320  We have a comfortable suite with a separate en...   \n",
       "4   874351314046879488  Spend a night in this unique music studio! <br...   \n",
       "\n",
       "                               the_space_description  \\\n",
       "0  You will enjoy the quiet and private room with...   \n",
       "1                                                NaN   \n",
       "2  Freshly painted walls, designer sheets, heated...   \n",
       "3  Welcome to our Apollo Sunset Suite! <br />We l...   \n",
       "4  Cozy bedroom with desk, piano and comfy bed. <...   \n",
       "\n",
       "                            guest_access_description  \\\n",
       "0  This is a private big bedroom with a private b...   \n",
       "1                                                NaN   \n",
       "2  During your trip you will have unfettered acce...   \n",
       "3  -Internet (Telus PureFibre Internet Gigabit, t...   \n",
       "4  Guests will have access to the basement suite ...   \n",
       "\n",
       "                    other_things_to_note_description  \\\n",
       "0  1) The private bathroom is not inside the room...   \n",
       "1                                                NaN   \n",
       "2                                                  .   \n",
       "3  There are Save on Food Supermarket, Shoppers, ...   \n",
       "4  There are only a handful of in-person music le...   \n",
       "\n",
       "  registration_number_description  \\\n",
       "0                             NaN   \n",
       "1                        00180521   \n",
       "2                       24-160094   \n",
       "3                        00136310   \n",
       "4                             NaN   \n",
       "\n",
       "                        during_your_stay_description  \n",
       "0                                                NaN  \n",
       "1                                                NaN  \n",
       "2  Our host guest relationship is of the utmost i...  \n",
       "3                                                NaN  \n",
       "4  Send a message through the app if you need any...  "
      ]
     },
     "execution_count": 275,
     "metadata": {},
     "output_type": "execute_result"
    }
   ],
   "source": [
    "print(df.shape)\n",
    "df.head()"
   ]
  },
  {
   "cell_type": "code",
   "execution_count": 276,
   "id": "6d841cca",
   "metadata": {},
   "outputs": [
    {
     "name": "stdout",
     "output_type": "stream",
     "text": [
      "               listing_id                               combined_description\n",
      "0      944162829781112704  Place description:\\nWelcome to our brand new a...\n",
      "1     1045877421386474496  Place description:\\nEnjoy a luxury, comfortabl...\n",
      "2                13131513  Place description:\\nEnjoy living in Vancouver’...\n",
      "3      873338302587192320  Place description:\\nWe have a comfortable suit...\n",
      "4      874351314046879488  Place description:\\nSpend a night in this uniq...\n",
      "...                   ...                                                ...\n",
      "1382  1083582514071370880  Place description:\\nEnjoy a stylish experience...\n",
      "1383             47480096  Place description:\\n\"Come be our guest in our ...\n",
      "1384              8273235  Place description:\\nWe live in North Vancouver...\n",
      "1385   970431967548785664  Place description:\\nRelax with the whole famil...\n",
      "1386  1175286792719540224  Place description:\\nDescription<br /><br /><br...\n",
      "\n",
      "[1387 rows x 2 columns]\n"
     ]
    }
   ],
   "source": [
    "# Function to join columns with their headers\n",
    "def join_columns_with_headers(row):\n",
    "    return \" \\n \".join([f\"{col.replace('_', ' ').capitalize()}:\\n{row[col]}\" \n",
    "                      for col in df.columns \n",
    "                      if col not in ['listing_id', 'registration_number_description']\n",
    "                      ])\n",
    "\n",
    "# Applying the function to each row\n",
    "df['combined_description'] = df[['place_description', \n",
    "                                 'the_space_description', \n",
    "                                 'guest_access_description', \n",
    "                                 'other_things_to_note_description',\n",
    "                                 'during_your_stay_description']\n",
    "                                 ].apply(join_columns_with_headers, axis=1)\n",
    "\n",
    "# Displaying the result\n",
    "print(df[['listing_id', 'combined_description']])\n"
   ]
  },
  {
   "cell_type": "code",
   "execution_count": 277,
   "id": "3a7f7367",
   "metadata": {},
   "outputs": [
    {
     "name": "stdout",
     "output_type": "stream",
     "text": [
      "Place description:\n",
      "We have a comfortable suite with a separate entrance, full kitchen and dining room, full bathroom, an independent bedroom and one completely isolated room for reclining with a sofa-bed and a large desk with a comfortable chair for you to use as a working space. <br />The house is located in a quiet residential district with walking distance to Restaurants, Supermarkets, Spa,  Coffee Shops and Royal Columbia Hospital.  There is a short distance to bus stops and Sky-train Station. \n",
      " The space description:\n",
      "Welcome to our Apollo Sunset Suite! <br />We live in a quiet, safe community with beautiful surroundings. Just a short walk from the new Skwo:wech Primary School and Buses. It's a 5-minute walk to Royal Columbian Hospital and an 8-minute walk to the SkyTrain station for quick access to Metrotown and downtown Vancouver. We are very close to several supermarkets (Save On Foods, Shoppers) and recreational facilities such as bars, restaurants, spas, cafes. <br />Highways #1 and #7 are easily accessible in just a few minutes drive, taking you anywhere.<br /><br />We will do our best to make your stay as convenient as possible.<br /><br />-Private guest suite<br />-One bedroom with single house on main floor<br />-separate entrance<br />-Plenty of sunshine available(Large panel <br /> window) <br />-Fully equipped kitchen and dining room<br />-Private bathroom with bathtub and shower<br />-Independent reclining work space room<br />-Floor heating system \n",
      " Guest access description:\n",
      "-Internet (Telus PureFibre Internet Gigabit, the internet speed  is around 940 mbps)<br />-Basic kitchen and dining facilities<br />-1 working desk and 1 swivel chair available<br />-1 queen size bed<br />-1 sofa bed<br />-2 clothing storage spaces<br />-Self check-in<br />-Street parking with permit (will be provided) \n",
      " Other things to note description:\n",
      "There are Save on Food Supermarket, Shoppers, Browns Social House, Fast-food restaurants, and pubs along the way with Local Church and several parks nearby \n",
      " During your stay description:\n",
      "nan\n"
     ]
    }
   ],
   "source": [
    "sample_combined_description = df.combined_description[3]\n",
    "\n",
    "print(sample_combined_description)"
   ]
  },
  {
   "cell_type": "markdown",
   "id": "b78d0181",
   "metadata": {},
   "source": [
    "## Run Gemini to generate response"
   ]
  },
  {
   "cell_type": "code",
   "execution_count": 278,
   "id": "6bb53176",
   "metadata": {},
   "outputs": [
    {
     "name": "stdout",
     "output_type": "stream",
     "text": [
      "```json\n",
      "{\n",
      "  \"is_bathroom_shared\": false,\n",
      "  \"is_kitchen_shared\": false,\n",
      "  \"is_host_in_unit\": false,\n",
      "  \"is_host_on_prem\": true,\n",
      "  \"shared_utilities\": false,\n",
      "  \"is_entrance_separate\": true,\n",
      "  \"other_guests_on_prem\": false,\n",
      "  \"host_profile_mentioned\": false,\n",
      "  \"property_separate_suite\": true,\n",
      "  \"host_interaction\": false,\n",
      "  \"house_rules_host_indication\": false,\n",
      "  \"listing_personal_touches\": false,\n",
      "  \"entire_property\": false,\n",
      "  \"host_additional_services\": false,\n",
      "  \"has_self_check_in\": true\n",
      "}\n",
      "```\n"
     ]
    }
   ],
   "source": [
    "response = model.generate_content(sample_combined_description)\n",
    "\n",
    "print(response.text)"
   ]
  },
  {
   "cell_type": "code",
   "execution_count": 279,
   "id": "5eecb319",
   "metadata": {},
   "outputs": [],
   "source": [
    "def clean_features(features):\n",
    "    # Use regex to remove everything before the first { and after the last }\n",
    "    cleaned_features = re.sub(r'^.*?({.*}).*$', r'\\1', features.lower(), flags=re.DOTALL)\n",
    "    return cleaned_features"
   ]
  },
  {
   "cell_type": "code",
   "execution_count": 280,
   "id": "6f057351-53cd-4139-bce1-700a77094660",
   "metadata": {},
   "outputs": [
    {
     "data": {
      "text/plain": [
       "{'is_bathroom_shared': False,\n",
       " 'is_kitchen_shared': False,\n",
       " 'is_host_in_unit': False,\n",
       " 'is_host_on_prem': True,\n",
       " 'shared_utilities': False,\n",
       " 'is_entrance_separate': True,\n",
       " 'other_guests_on_prem': False,\n",
       " 'host_profile_mentioned': False,\n",
       " 'property_separate_suite': True,\n",
       " 'host_interaction': False,\n",
       " 'house_rules_host_indication': False,\n",
       " 'listing_personal_touches': False,\n",
       " 'entire_property': False,\n",
       " 'host_additional_services': False,\n",
       " 'has_self_check_in': True}"
      ]
     },
     "execution_count": 280,
     "metadata": {},
     "output_type": "execute_result"
    }
   ],
   "source": [
    "cleaned_features = clean_features(response.text)\n",
    "\n",
    "json.loads(cleaned_features)"
   ]
  },
  {
   "cell_type": "code",
   "execution_count": null,
   "id": "df7d16f7-6bee-4824-805f-43fa68411b67",
   "metadata": {},
   "outputs": [],
   "source": []
  }
 ],
 "metadata": {
  "kernelspec": {
   "display_name": "Python 3 (ipykernel)",
   "language": "python",
   "name": "python3"
  },
  "language_info": {
   "codemirror_mode": {
    "name": "ipython",
    "version": 3
   },
   "file_extension": ".py",
   "mimetype": "text/x-python",
   "name": "python",
   "nbconvert_exporter": "python",
   "pygments_lexer": "ipython3",
   "version": "3.11.5"
  }
 },
 "nbformat": 4,
 "nbformat_minor": 5
}
