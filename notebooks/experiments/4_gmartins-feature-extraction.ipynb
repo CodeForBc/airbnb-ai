{
 "cells": [
  {
   "cell_type": "code",
   "execution_count": 106,
   "id": "297a7de3-2f0a-46ed-af50-b84b9ae08e77",
   "metadata": {},
   "outputs": [],
   "source": [
    "import os\n",
    "from dotenv import load_dotenv\n",
    "import google.generativeai as genai\n",
    "import re\n",
    "import pandas as pd\n",
    "import json"
   ]
  },
  {
   "cell_type": "markdown",
   "id": "d2f3c3cd",
   "metadata": {},
   "source": [
    "## LLM Gemini model preparation\n",
    "\n",
    "Please get your GEMINI_API_KEY in Google AI Studio first, then add it to `.env` file in the root directory in the same way shown in `.env_example` file."
   ]
  },
  {
   "cell_type": "code",
   "execution_count": 98,
   "id": "4da19262-44e9-4eae-a80c-79016e044777",
   "metadata": {},
   "outputs": [],
   "source": [
    "# Load environment variables from .env file\n",
    "load_dotenv()\n",
    "\n",
    "genai.configure(api_key=os.environ[\"GEMINI_API_KEY\"])"
   ]
  },
  {
   "cell_type": "markdown",
   "id": "7988e9b4-e100-465d-86de-65c42ae49eaa",
   "metadata": {},
   "source": [
    "Gemini 1.5 Flash\n",
    "\n",
    "Rate Limits:\n",
    "\n",
    "- 15 RPM (requests per minute)\n",
    "\n",
    "- 1 million TPM (tokens per minute)\n",
    "\n",
    "- 1,500 RPD (requests per day)\n",
    "\n",
    "Price (input)\n",
    "\n",
    "- Free of charge"
   ]
  },
  {
   "cell_type": "code",
   "execution_count": 261,
   "id": "1d197107",
   "metadata": {},
   "outputs": [],
   "source": [
    "# Create the model\n",
    "# See https://ai.google.dev/api/python/google/generativeai/GenerativeModel\n",
    "generation_config = {\n",
    "    \"temperature\": 0,\n",
    "    \"top_p\": 0.95,\n",
    "    \"top_k\": 64,\n",
    "    \"max_output_tokens\": 1024,\n",
    "    \"response_mime_type\": \"text/plain\",\n",
    "}\n",
    "\n",
    "SYSTEM_PROMPT = \"\"\"\n",
    "You are a helpful assistant. You will analyze the given text and provide a JSON response indicating whether the text mentions or suggests certain things. Please follow these guidelines:\n",
    "1. \"is_bathroom_shared\": Check if there is any mention of a shared bathroom. Ignore mentions of other shared amenities like \"shared kitchen\" or \"shared laundry\". Look for keywords like \"shared bathroom\", \"bathroom shared\", \"bathroom is shared\", etc.\n",
    "2. \"is_kitchen_shared\": Check if there is any mention of a shared kitchen. Ignore mentions of other shared amenities like \"shared bathroom\" or \"shared laundry\". Look for keywords like \"shared kitchen\", \"kitchen shared\", \"kitchen is shared\", etc.\n",
    "3. \"is_host_in_unit\": Check if there is any mention of the host living in the same unit, apartment or house as the guest. Look for keywords like \"live in the unit\", \"live next door\", etc.\n",
    "4. \"is_host_on_prem\": Check if there is any mention of the host living on premises. Look for keywords like \"live on premises\", \"live in the same building\", \"live on-site\", etc.\n",
    "5. \"shared_utilities\": Check if there is any mention of shared utilities or facilities. Ignore mentions of other shared amenities like \"shared kitchen\" or \"shared bathroom\". Look for keywords like \"shared laundry\", \"shared laundry room\", \"laundry shared\", \"laundry is shared\", \"shared electricity\", \"shared internet\", \"shared cable TV\", etc.\n",
    "6. \"is_entrance_separate\": Check if there is any mention of separate entrance. Look for keywords like \"private entrance\", \"separate entrance\", etc.\n",
    "7. \"other_guests_on_prem\": Check if there is any mention of other guests living on the premises/house/apt/apartment or anything indicating that there will be other guests on the premises.\n",
    "8. \"host_profile_mentioned\": Check if there is any mention of the host's profile being Superhost or similar detail.\n",
    "9. \"property_separate_suite\": Check if there is any mention of private or separate suites/apartments. Look for keywords like \"private suite\", \"separate suite\", \"separate apartments\", etc.\n",
    "10. \"host_interaction\": Check if there is any mention of limited or no interaction with the host.\n",
    "11. \"house_rules_host_indication\": Check if there is any mention of any specific rule indicating the host's presence. Look for keywords like \"noise\", \"noise levels\", \"no noise\", \"curfew\", \"limited time\" \"from 10am to 10pm\", \"until 10pm\", etc.\n",
    "12. \"listing_personal_touches\": Check if there is any mention of language in the text suggesting personal touches.\n",
    "13. \"entire_property\": Check if there is any mention of the property type being listed. Ignore mentions of other property types like \"entire room\", \"private room\" or \"shared room\". Look for keywords like \"entire home\", \"entire house\", \"entire studio\", \"entire apt\", \"entire apartment\", \"entire condo\", \"entire penthouse\", \"whole house\", \"whole apartment\", \"whole studio\", etc.\n",
    "14. \"host_additional_services\": Check if there is any mention of host offering services, therefore, indicating their presence. Look for keywords like \"breakfast\", \"breakfast provided\", \"breakfast included\", \"meals provided\", \"meal provided\", \"meal included\", \"available upon request\", etc.\n",
    "15. \"has_self_check_in\": Check if there is any menition of guest self check-in. Look for keywords like \"self check-in\", \"self check in\", \"self checkin\", etc.\n",
    "\n",
    "Respond with a JSON formatted output. No additional text, markdown, details or annotations required:\n",
    "{\n",
    "  \"is_bathroom_shared\": <true/false>,\n",
    "  \"is_kitched_shared\": <true/false>,\n",
    "  \"is_host_on_prem\": <true/false>,\n",
    "  \"other_guests_on_prem\": <true/false>, \n",
    "  ...\n",
    "}\n",
    "\"\"\"\n",
    "\n",
    "model = genai.GenerativeModel(\n",
    "    model_name=\"gemini-1.5-flash-latest\",\n",
    "    generation_config=generation_config,\n",
    "    system_instruction=SYSTEM_PROMPT\n",
    ")"
   ]
  },
  {
   "cell_type": "markdown",
   "id": "5c052179",
   "metadata": {},
   "source": [
    "## Data preparation"
   ]
  },
  {
   "cell_type": "code",
   "execution_count": 262,
   "id": "b9f874ab",
   "metadata": {},
   "outputs": [],
   "source": [
    "# Specify the path to your .jsonl file\n",
    "file_path = '../../data/description_parsing/descriptions_output_burnaby.jsonl'\n",
    "\n",
    "# Read the .jsonl file into a DataFrame\n",
    "df = pd.read_json(file_path, lines=True)"
   ]
  },
  {
   "cell_type": "code",
   "execution_count": 263,
   "id": "fcd3671e",
   "metadata": {},
   "outputs": [
    {
     "name": "stdout",
     "output_type": "stream",
     "text": [
      "(297, 7)\n"
     ]
    },
    {
     "data": {
      "text/html": [
       "<div>\n",
       "<style scoped>\n",
       "    .dataframe tbody tr th:only-of-type {\n",
       "        vertical-align: middle;\n",
       "    }\n",
       "\n",
       "    .dataframe tbody tr th {\n",
       "        vertical-align: top;\n",
       "    }\n",
       "\n",
       "    .dataframe thead th {\n",
       "        text-align: right;\n",
       "    }\n",
       "</style>\n",
       "<table border=\"1\" class=\"dataframe\">\n",
       "  <thead>\n",
       "    <tr style=\"text-align: right;\">\n",
       "      <th></th>\n",
       "      <th>listing_id</th>\n",
       "      <th>place_description</th>\n",
       "      <th>the_space_description</th>\n",
       "      <th>guest_access_description</th>\n",
       "      <th>registration_number_description</th>\n",
       "      <th>other_things_to_note_description</th>\n",
       "      <th>during_your_stay_description</th>\n",
       "    </tr>\n",
       "  </thead>\n",
       "  <tbody>\n",
       "    <tr>\n",
       "      <th>0</th>\n",
       "      <td>36007359</td>\n",
       "      <td>* New renovated studio&lt;br /&gt;* Separate entranc...</td>\n",
       "      <td>Studio enough for 2 peoples with appliances, s...</td>\n",
       "      <td>Self check in.&lt;br /&gt;Access with smart lock code.</td>\n",
       "      <td>00180401</td>\n",
       "      <td>NaN</td>\n",
       "      <td>NaN</td>\n",
       "    </tr>\n",
       "    <tr>\n",
       "      <th>1</th>\n",
       "      <td>16396887</td>\n",
       "      <td>* New renovated 1 bedroom ground level suite.&lt;...</td>\n",
       "      <td>It's an amazing private space that is good for...</td>\n",
       "      <td>High speed Wi-Fi, Paid Cable TV, Netflix movie...</td>\n",
       "      <td>NaN</td>\n",
       "      <td>* ENJOY FREE gifts inside basket on the counte...</td>\n",
       "      <td>NaN</td>\n",
       "    </tr>\n",
       "    <tr>\n",
       "      <th>2</th>\n",
       "      <td>944162829781112704</td>\n",
       "      <td>Welcome to our brand new and beautiful apartme...</td>\n",
       "      <td>You will enjoy the quiet and private room with...</td>\n",
       "      <td>This is a private big bedroom with a private b...</td>\n",
       "      <td>NaN</td>\n",
       "      <td>1) The private bathroom is not inside the room...</td>\n",
       "      <td>NaN</td>\n",
       "    </tr>\n",
       "    <tr>\n",
       "      <th>3</th>\n",
       "      <td>1045877421386474496</td>\n",
       "      <td>Enjoy a luxury, comfortable stay in this brigh...</td>\n",
       "      <td>NaN</td>\n",
       "      <td>NaN</td>\n",
       "      <td>00180521</td>\n",
       "      <td>NaN</td>\n",
       "      <td>NaN</td>\n",
       "    </tr>\n",
       "    <tr>\n",
       "      <th>4</th>\n",
       "      <td>13131513</td>\n",
       "      <td>Enjoy living in Vancouver’s premier neighbourh...</td>\n",
       "      <td>Freshly painted walls, designer sheets, heated...</td>\n",
       "      <td>During your trip you will have unfettered acce...</td>\n",
       "      <td>24-160094</td>\n",
       "      <td>.</td>\n",
       "      <td>Our host guest relationship is of the utmost i...</td>\n",
       "    </tr>\n",
       "  </tbody>\n",
       "</table>\n",
       "</div>"
      ],
      "text/plain": [
       "            listing_id                                  place_description  \\\n",
       "0             36007359  * New renovated studio<br />* Separate entranc...   \n",
       "1             16396887  * New renovated 1 bedroom ground level suite.<...   \n",
       "2   944162829781112704  Welcome to our brand new and beautiful apartme...   \n",
       "3  1045877421386474496  Enjoy a luxury, comfortable stay in this brigh...   \n",
       "4             13131513  Enjoy living in Vancouver’s premier neighbourh...   \n",
       "\n",
       "                               the_space_description  \\\n",
       "0  Studio enough for 2 peoples with appliances, s...   \n",
       "1  It's an amazing private space that is good for...   \n",
       "2  You will enjoy the quiet and private room with...   \n",
       "3                                                NaN   \n",
       "4  Freshly painted walls, designer sheets, heated...   \n",
       "\n",
       "                            guest_access_description  \\\n",
       "0   Self check in.<br />Access with smart lock code.   \n",
       "1  High speed Wi-Fi, Paid Cable TV, Netflix movie...   \n",
       "2  This is a private big bedroom with a private b...   \n",
       "3                                                NaN   \n",
       "4  During your trip you will have unfettered acce...   \n",
       "\n",
       "  registration_number_description  \\\n",
       "0                        00180401   \n",
       "1                             NaN   \n",
       "2                             NaN   \n",
       "3                        00180521   \n",
       "4                       24-160094   \n",
       "\n",
       "                    other_things_to_note_description  \\\n",
       "0                                                NaN   \n",
       "1  * ENJOY FREE gifts inside basket on the counte...   \n",
       "2  1) The private bathroom is not inside the room...   \n",
       "3                                                NaN   \n",
       "4                                                  .   \n",
       "\n",
       "                        during_your_stay_description  \n",
       "0                                                NaN  \n",
       "1                                                NaN  \n",
       "2                                                NaN  \n",
       "3                                                NaN  \n",
       "4  Our host guest relationship is of the utmost i...  "
      ]
     },
     "execution_count": 263,
     "metadata": {},
     "output_type": "execute_result"
    }
   ],
   "source": [
    "print(df.shape)\n",
    "df.head()"
   ]
  },
  {
   "cell_type": "code",
   "execution_count": 264,
   "id": "6d841cca",
   "metadata": {},
   "outputs": [
    {
     "name": "stdout",
     "output_type": "stream",
     "text": [
      "              listing_id                               combined_description\n",
      "0               36007359  Place description:\\n* New renovated studio<br ...\n",
      "1               16396887  Place description:\\n* New renovated 1 bedroom ...\n",
      "2     944162829781112704  Place description:\\nWelcome to our brand new a...\n",
      "3    1045877421386474496  Place description:\\nEnjoy a luxury, comfortabl...\n",
      "4               13131513  Place description:\\nEnjoy living in Vancouver’...\n",
      "..                   ...                                                ...\n",
      "292  1092272050579725440  Place description:\\nOur cute studio suite is w...\n",
      "293  1129809878062596864  Place description:\\nForget your worries in thi...\n",
      "294  1084101859863696256  Place description:\\nComing to a grand home, co...\n",
      "295             50795954  Place description:\\nWelcome at this peaceful a...\n",
      "296  1134596079356454016  Place description:\\nLocated in Desirable Locat...\n",
      "\n",
      "[297 rows x 2 columns]\n"
     ]
    }
   ],
   "source": [
    "# Function to join columns with their headers\n",
    "def join_columns_with_headers(row):\n",
    "    return \" \\n \".join([f\"{col.replace('_', ' ').capitalize()}:\\n{row[col]}\" \n",
    "                      for col in df.columns \n",
    "                      if col not in ['listing_id', 'registration_number_description']\n",
    "                      ])\n",
    "\n",
    "# Applying the function to each row\n",
    "df['combined_description'] = df[['place_description', \n",
    "                                 'the_space_description', \n",
    "                                 'guest_access_description', \n",
    "                                 'other_things_to_note_description',\n",
    "                                 'during_your_stay_description']\n",
    "                                 ].apply(join_columns_with_headers, axis=1)\n",
    "\n",
    "# Displaying the result\n",
    "print(df[['listing_id', 'combined_description']])\n"
   ]
  },
  {
   "cell_type": "code",
   "execution_count": 265,
   "id": "3a7f7367",
   "metadata": {},
   "outputs": [
    {
     "name": "stdout",
     "output_type": "stream",
     "text": [
      "Place description:\n",
      "Enjoy a luxury, comfortable stay in this bright, family friendly, safe and central neighbourhood. <br /><br />Bed Size: Full Double<br /><br />Walking distance to transit, trails, parks, grocery stores, Kensington Plaza + much more! A 20 minute drive to downtown and just a 5 minute drive to The Amazing Brentwood Mall.<br /><br />Walking distance (across the street) to Bus Routes to SFU + BCIT: Bus #144 + R5<br /><br />SFU : 6 minute drive<br />BCIT: 12 minute drive.<br /><br />Plenty of street parking available. EV charging available upon request. \n",
      " The space description:\n",
      "nan \n",
      " Guest access description:\n",
      "nan \n",
      " Other things to note description:\n",
      "nan \n",
      " During your stay description:\n",
      "nan\n"
     ]
    }
   ],
   "source": [
    "sample_combined_description = df.combined_description[3]\n",
    "\n",
    "print(sample_combined_description)"
   ]
  },
  {
   "cell_type": "markdown",
   "id": "b78d0181",
   "metadata": {},
   "source": [
    "## Run Gemini to generate response"
   ]
  },
  {
   "cell_type": "code",
   "execution_count": 266,
   "id": "6bb53176",
   "metadata": {},
   "outputs": [
    {
     "name": "stdout",
     "output_type": "stream",
     "text": [
      "{\n",
      "  \"is_bathroom_shared\": false,\n",
      "  \"is_kitchen_shared\": false,\n",
      "  \"is_host_in_unit\": false,\n",
      "  \"is_host_on_prem\": false,\n",
      "  \"shared_utilities\": false,\n",
      "  \"is_entrance_separate\": false,\n",
      "  \"other_guests_on_prem\": false,\n",
      "  \"host_profile_mentioned\": false,\n",
      "  \"property_separate_suite\": false,\n",
      "  \"host_interaction\": false,\n",
      "  \"house_rules_host_indication\": false,\n",
      "  \"listing_personal_touches\": false,\n",
      "  \"entire_property\": false,\n",
      "  \"host_additional_services\": true,\n",
      "  \"has_self_check_in\": false\n",
      "}\n"
     ]
    }
   ],
   "source": [
    "response = model.generate_content(sample_combined_description)\n",
    "\n",
    "print(response.text)"
   ]
  },
  {
   "cell_type": "code",
   "execution_count": 191,
   "id": "5eecb319",
   "metadata": {},
   "outputs": [],
   "source": [
    "def clean_features(features):\n",
    "    # Use regex to remove everything before the first { and after the last }\n",
    "    cleaned_features = re.sub(r'^.*?({.*}).*$', r'\\1', features.lower(), flags=re.DOTALL)\n",
    "    return cleaned_features"
   ]
  },
  {
   "cell_type": "code",
   "execution_count": 192,
   "id": "6f057351-53cd-4139-bce1-700a77094660",
   "metadata": {},
   "outputs": [
    {
     "data": {
      "text/plain": [
       "{'is_bathroom_shared': False,\n",
       " 'is_kitchen_shared': False,\n",
       " 'is_host_on_prem': False,\n",
       " 'shared_utilities': True,\n",
       " 'is_entrance_separate': True,\n",
       " 'other_guests_on_prem': False,\n",
       " 'host_profile_mentioned': False,\n",
       " 'property_separate_suite': True,\n",
       " 'host_interaction': True,\n",
       " 'house_rules_host_indication': True,\n",
       " 'listing_personal_touches': True,\n",
       " 'entire_property': True,\n",
       " 'host_additional_services': False,\n",
       " 'has_self_check_in': True}"
      ]
     },
     "execution_count": 192,
     "metadata": {},
     "output_type": "execute_result"
    }
   ],
   "source": [
    "cleaned_features = clean_features(response.text)\n",
    "\n",
    "json.loads(cleaned_features)"
   ]
  },
  {
   "cell_type": "code",
   "execution_count": null,
   "id": "df7d16f7-6bee-4824-805f-43fa68411b67",
   "metadata": {},
   "outputs": [],
   "source": []
  }
 ],
 "metadata": {
  "kernelspec": {
   "display_name": "Python 3 (ipykernel)",
   "language": "python",
   "name": "python3"
  },
  "language_info": {
   "codemirror_mode": {
    "name": "ipython",
    "version": 3
   },
   "file_extension": ".py",
   "mimetype": "text/x-python",
   "name": "python",
   "nbconvert_exporter": "python",
   "pygments_lexer": "ipython3",
   "version": "3.11.5"
  }
 },
 "nbformat": 4,
 "nbformat_minor": 5
}
