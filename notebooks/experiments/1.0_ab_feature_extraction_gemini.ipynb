{
 "cells": [
  {
   "cell_type": "code",
   "execution_count": 1,
   "id": "297a7de3-2f0a-46ed-af50-b84b9ae08e77",
   "metadata": {},
   "outputs": [],
   "source": [
    "import os\n",
    "from dotenv import load_dotenv\n",
    "import google.generativeai as genai\n",
    "import re\n",
    "import pandas as pd\n",
    "import json"
   ]
  },
  {
   "cell_type": "markdown",
   "id": "d2f3c3cd",
   "metadata": {},
   "source": [
    "## LLM Gemini model preparation\n",
    "\n",
    "Please get your GEMINI_API_KEY in Google AI Studio first, then add it to `.env` file in the root directory in the same way shown in `.env_example` file."
   ]
  },
  {
   "cell_type": "code",
   "execution_count": 2,
   "id": "4da19262-44e9-4eae-a80c-79016e044777",
   "metadata": {},
   "outputs": [],
   "source": [
    "# Load environment variables from .env file\n",
    "load_dotenv()\n",
    "\n",
    "genai.configure(api_key=os.environ[\"GEMINI_API_KEY\"])"
   ]
  },
  {
   "cell_type": "markdown",
   "id": "7988e9b4-e100-465d-86de-65c42ae49eaa",
   "metadata": {},
   "source": [
    "Gemini 1.5 Flash\n",
    "\n",
    "Rate Limits:\n",
    "\n",
    "- 15 RPM (requests per minute)\n",
    "\n",
    "- 1 million TPM (tokens per minute)\n",
    "\n",
    "- 1,500 RPD (requests per day)\n",
    "\n",
    "Price (input)\n",
    "\n",
    "- Free of charge"
   ]
  },
  {
   "cell_type": "code",
   "execution_count": 3,
   "id": "1d197107",
   "metadata": {},
   "outputs": [],
   "source": [
    "# Create the model\n",
    "# See https://ai.google.dev/api/python/google/generativeai/GenerativeModel\n",
    "generation_config = {\n",
    "    \"temperature\": 0,\n",
    "    \"top_p\": 0.95,\n",
    "    \"top_k\": 64,\n",
    "    \"max_output_tokens\": 1024,\n",
    "    \"response_mime_type\": \"text/plain\",\n",
    "}\n",
    "\n",
    "SYSTEM_PROMPT = \"\"\"\n",
    "You are an AI block of data enriching pipeline. I need you to answer if following description has specific details. \n",
    "Provide boolean responses in json format with the following keys:\n",
    "{\n",
    "    is_bathroom_shared: \"is shared bathroom mentioned\",\n",
    "    is_kitchen_shared: \"is shared kitchen mentioned\",\n",
    "    is_host_on_prem: \"is host living on premises\",\n",
    "    shared_utilities: \"are shared utilities or facilities like laundry rooms mentioned\",\n",
    "    is_entrance_separate: \"is separate entrance mentioned\",\n",
    "    other_guests_on_prem: \"are other guests going to live on the premises\",\n",
    "    host_profile_mentions: \"does host's profile mention they are a Superhost or similar detail\",\n",
    "    property_separate_suite: \"is there mention of private or separate guest suites/apartments\",\n",
    "    host_interaction: \"does the listing mention limited or no interaction with the host\",\n",
    "    house_rules_host_indication: \"are there specific rules indicating host presence (e.g., noise levels, curfews)\",\n",
    "    listing_personal_touches: \"does the listing language suggest personal touches\",\n",
    "    entire_property: \"is the property type listed as Entire home/apt or Private room\",\n",
    "    host_additional_services: \"does the host offer services like breakfast indicating presence\"\n",
    "}\n",
    "\n",
    "Response with only Json! No additional text or markdown! only True or False\n",
    "Expecting output like that:\n",
    "{\n",
    "  is_bathroom_shared: True,\n",
    "  is_kitched_shared: True,\n",
    "  is_host_on_prem: False,\n",
    "  other_guests_on_prem: False, \n",
    "  ...\n",
    "}\n",
    "\"\"\"\n",
    "\n",
    "model = genai.GenerativeModel(\n",
    "    model_name=\"gemini-1.5-flash-latest\",\n",
    "    generation_config=generation_config,\n",
    "    system_instruction=SYSTEM_PROMPT\n",
    ")"
   ]
  },
  {
   "cell_type": "markdown",
   "id": "5c052179",
   "metadata": {},
   "source": [
    "## Data preparation"
   ]
  },
  {
   "cell_type": "code",
   "execution_count": 4,
   "id": "b9f874ab",
   "metadata": {},
   "outputs": [],
   "source": [
    "# Specify the path to your .jsonl file\n",
    "file_path = '../../data/description_parsing/descriptions_output.jsonl'\n",
    "\n",
    "# Read the .jsonl file into a DataFrame\n",
    "df = pd.read_json(file_path, lines=True)"
   ]
  },
  {
   "cell_type": "code",
   "execution_count": 5,
   "id": "fcd3671e",
   "metadata": {},
   "outputs": [
    {
     "name": "stdout",
     "output_type": "stream",
     "text": [
      "(2184, 7)\n"
     ]
    },
    {
     "data": {
      "text/html": [
       "<div>\n",
       "<style scoped>\n",
       "    .dataframe tbody tr th:only-of-type {\n",
       "        vertical-align: middle;\n",
       "    }\n",
       "\n",
       "    .dataframe tbody tr th {\n",
       "        vertical-align: top;\n",
       "    }\n",
       "\n",
       "    .dataframe thead th {\n",
       "        text-align: right;\n",
       "    }\n",
       "</style>\n",
       "<table border=\"1\" class=\"dataframe\">\n",
       "  <thead>\n",
       "    <tr style=\"text-align: right;\">\n",
       "      <th></th>\n",
       "      <th>listing_id</th>\n",
       "      <th>place_description</th>\n",
       "      <th>the_space_description</th>\n",
       "      <th>guest_access_description</th>\n",
       "      <th>other_things_to_note_description</th>\n",
       "      <th>registration_number_description</th>\n",
       "      <th>during_your_stay_description</th>\n",
       "    </tr>\n",
       "  </thead>\n",
       "  <tbody>\n",
       "    <tr>\n",
       "      <th>0</th>\n",
       "      <td>36322781</td>\n",
       "      <td>Private basement suite in a quiet neighbourhoo...</td>\n",
       "      <td>Electronic Door Lock&lt;br /&gt;Heated floors&lt;br /&gt;C...</td>\n",
       "      <td>The Suite and backyard if requested.</td>\n",
       "      <td>My wife, myself, and 3 young children live ups...</td>\n",
       "      <td>24-157781</td>\n",
       "      <td>NaN</td>\n",
       "    </tr>\n",
       "    <tr>\n",
       "      <th>1</th>\n",
       "      <td>1152216438211720832</td>\n",
       "      <td>Enjoy a stylish experience at this centrally l...</td>\n",
       "      <td>NaN</td>\n",
       "      <td>NaN</td>\n",
       "      <td>NaN</td>\n",
       "      <td>24-159950</td>\n",
       "      <td>NaN</td>\n",
       "    </tr>\n",
       "    <tr>\n",
       "      <th>2</th>\n",
       "      <td>21356520</td>\n",
       "      <td>The room is bright with big window . Very quit...</td>\n",
       "      <td>Very clean and bright.</td>\n",
       "      <td>Guest can access my kitchen if no one using th...</td>\n",
       "      <td>The room is spacious with closet and study tab...</td>\n",
       "      <td>24-157581</td>\n",
       "      <td>I like socializing with the guest.  I’m availa...</td>\n",
       "    </tr>\n",
       "    <tr>\n",
       "      <th>3</th>\n",
       "      <td>1064160331460880512</td>\n",
       "      <td>Centrally located suite with self check-in and...</td>\n",
       "      <td>Main bedroom, with a queen-sized bed and a com...</td>\n",
       "      <td>Your suite is the ground floor of our home. Yo...</td>\n",
       "      <td>We have a 10-year-old Shih-tzu dog named Byte,...</td>\n",
       "      <td>24-172645</td>\n",
       "      <td>NaN</td>\n",
       "    </tr>\n",
       "    <tr>\n",
       "      <th>4</th>\n",
       "      <td>1034049419047464832</td>\n",
       "      <td>License # 23 031530&lt;br /&gt;&lt;br /&gt;Have a long lay...</td>\n",
       "      <td>Comfortable bedroom with a bay window over loo...</td>\n",
       "      <td>Shared washroom, living room, beautiful garden...</td>\n",
       "      <td>We have dogs, cat and hedgehogs, if you are al...</td>\n",
       "      <td>23-031530</td>\n",
       "      <td>we live on the ground floor so always here to ...</td>\n",
       "    </tr>\n",
       "  </tbody>\n",
       "</table>\n",
       "</div>"
      ],
      "text/plain": [
       "            listing_id                                  place_description  \\\n",
       "0             36322781  Private basement suite in a quiet neighbourhoo...   \n",
       "1  1152216438211720832  Enjoy a stylish experience at this centrally l...   \n",
       "2             21356520  The room is bright with big window . Very quit...   \n",
       "3  1064160331460880512  Centrally located suite with self check-in and...   \n",
       "4  1034049419047464832  License # 23 031530<br /><br />Have a long lay...   \n",
       "\n",
       "                               the_space_description  \\\n",
       "0  Electronic Door Lock<br />Heated floors<br />C...   \n",
       "1                                                NaN   \n",
       "2                             Very clean and bright.   \n",
       "3  Main bedroom, with a queen-sized bed and a com...   \n",
       "4  Comfortable bedroom with a bay window over loo...   \n",
       "\n",
       "                            guest_access_description  \\\n",
       "0               The Suite and backyard if requested.   \n",
       "1                                                NaN   \n",
       "2  Guest can access my kitchen if no one using th...   \n",
       "3  Your suite is the ground floor of our home. Yo...   \n",
       "4  Shared washroom, living room, beautiful garden...   \n",
       "\n",
       "                    other_things_to_note_description  \\\n",
       "0  My wife, myself, and 3 young children live ups...   \n",
       "1                                                NaN   \n",
       "2  The room is spacious with closet and study tab...   \n",
       "3  We have a 10-year-old Shih-tzu dog named Byte,...   \n",
       "4  We have dogs, cat and hedgehogs, if you are al...   \n",
       "\n",
       "  registration_number_description  \\\n",
       "0                       24-157781   \n",
       "1                       24-159950   \n",
       "2                       24-157581   \n",
       "3                       24-172645   \n",
       "4                       23-031530   \n",
       "\n",
       "                        during_your_stay_description  \n",
       "0                                                NaN  \n",
       "1                                                NaN  \n",
       "2  I like socializing with the guest.  I’m availa...  \n",
       "3                                                NaN  \n",
       "4  we live on the ground floor so always here to ...  "
      ]
     },
     "execution_count": 5,
     "metadata": {},
     "output_type": "execute_result"
    }
   ],
   "source": [
    "print(df.shape)\n",
    "df.head()"
   ]
  },
  {
   "cell_type": "code",
   "execution_count": 6,
   "id": "6d841cca",
   "metadata": {},
   "outputs": [
    {
     "name": "stdout",
     "output_type": "stream",
     "text": [
      "               listing_id                               combined_description\n",
      "0                36322781  Place description:\\nPrivate basement suite in ...\n",
      "1     1152216438211720832  Place description:\\nEnjoy a stylish experience...\n",
      "2                21356520  Place description:\\nThe room is bright with bi...\n",
      "3     1064160331460880512  Place description:\\nCentrally located suite wi...\n",
      "4     1034049419047464832  Place description:\\nLicense # 23 031530<br /><...\n",
      "...                   ...                                                ...\n",
      "2179             19744355  Place description:\\nNote: check-in is at 6pm a...\n",
      "2180   873041376969359872  Place description:\\nYou'll have a great time a...\n",
      "2181   914167814583406464  Place description:\\nEnjoy a 1 bedroom 1 bathro...\n",
      "2182   950905428130826624  Place description:\\nPrivate room with queen be...\n",
      "2183   941828367326510592  Place description:\\nMake yourself at home to o...\n",
      "\n",
      "[2184 rows x 2 columns]\n"
     ]
    }
   ],
   "source": [
    "# Function to join columns with their headers\n",
    "def join_columns_with_headers(row):\n",
    "    return \" \\n \".join([f\"{col.replace('_', ' ').capitalize()}:\\n{row[col]}\" \n",
    "                      for col in df.columns \n",
    "                      if col not in ['listing_id', 'registration_number_description']\n",
    "                      ])\n",
    "\n",
    "# Applying the function to each row\n",
    "df['combined_description'] = df[['place_description', \n",
    "                                 'the_space_description', \n",
    "                                 'guest_access_description', \n",
    "                                 'other_things_to_note_description',\n",
    "                                 'during_your_stay_description']\n",
    "                                 ].apply(join_columns_with_headers, axis=1)\n",
    "\n",
    "# Displaying the result\n",
    "print(df[['listing_id', 'combined_description']])\n"
   ]
  },
  {
   "cell_type": "code",
   "execution_count": 7,
   "id": "3a7f7367",
   "metadata": {},
   "outputs": [
    {
     "name": "stdout",
     "output_type": "stream",
     "text": [
      "Place description:\n",
      "Private basement suite in a quiet neighbourhood close to Nanaimo Skytrain station.<br />-10min to Downtown Vancouver<br />-10min to GM Place/ BC Place (Concerts, Events, Sporting events) <br />-10min to Metrotown Shopping Center<br />-15min to BCIT via bus<br /><br />-10min walk to Troute lake <br />-3min walk to Small Grocery store<br /><br />Flexible Check-In times<br />Plenty of street parking \n",
      " The space description:\n",
      "Electronic Door Lock<br />Heated floors<br />Cozy and Comfortable basement suite<br />Not the largest but great for travelers who are exploring the city.  Perfect for short stays and adventurous guests.<br /><br />***Guests staying indoors the majority of their stay may find the suite small** <br />-Sofa is too small to sleep on. <br />-Not ideal if you have a lot of luggage** \n",
      " Guest access description:\n",
      "The Suite and backyard if requested. \n",
      " Other things to note description:\n",
      "My wife, myself, and 3 young children live upstairs. Tenants next door. Occasional noise may be heard from other units.<br /><br />Washer & Dryer is only available for guests staying 5 nights or more. It is located in a shared area behind a locked door. 24-hour advanced notice required. \n",
      " During your stay description:\n",
      "nan\n"
     ]
    }
   ],
   "source": [
    "sample_combined_description = df.combined_description[0]\n",
    "\n",
    "print(sample_combined_description)"
   ]
  },
  {
   "cell_type": "markdown",
   "id": "b78d0181",
   "metadata": {},
   "source": [
    "## Run Gemini to generate response"
   ]
  },
  {
   "cell_type": "code",
   "execution_count": 8,
   "id": "6bb53176",
   "metadata": {},
   "outputs": [
    {
     "name": "stdout",
     "output_type": "stream",
     "text": [
      "{\n",
      "  \"is_bathroom_shared\": False,\n",
      "  \"is_kitchen_shared\": False,\n",
      "  \"is_host_on_prem\": True,\n",
      "  \"shared_utilities\": True,\n",
      "  \"is_entrance_separate\": True,\n",
      "  \"other_guests_on_prem\": True,\n",
      "  \"host_profile_mentions\": False,\n",
      "  \"property_separate_suite\": True,\n",
      "  \"host_interaction\": False,\n",
      "  \"house_rules_host_indication\": True,\n",
      "  \"listing_personal_touches\": False,\n",
      "  \"entire_property\": False,\n",
      "  \"host_additional_services\": False\n",
      "}\n"
     ]
    }
   ],
   "source": [
    "response = model.generate_content(sample_combined_description)\n",
    "\n",
    "print(response.text)"
   ]
  },
  {
   "cell_type": "code",
   "execution_count": 9,
   "id": "5eecb319",
   "metadata": {},
   "outputs": [],
   "source": [
    "def clean_features(features):\n",
    "    # Use regex to remove everything before the first { and after the last }\n",
    "    cleaned_features = re.sub(r'^.*?({.*}).*$', r'\\1', features.lower(), flags=re.DOTALL)\n",
    "    return cleaned_features"
   ]
  },
  {
   "cell_type": "code",
   "execution_count": 10,
   "id": "6f057351-53cd-4139-bce1-700a77094660",
   "metadata": {},
   "outputs": [
    {
     "data": {
      "text/plain": [
       "{'is_bathroom_shared': False,\n",
       " 'is_kitchen_shared': False,\n",
       " 'is_host_on_prem': True,\n",
       " 'shared_utilities': True,\n",
       " 'is_entrance_separate': True,\n",
       " 'other_guests_on_prem': True,\n",
       " 'host_profile_mentions': False,\n",
       " 'property_separate_suite': True,\n",
       " 'host_interaction': False,\n",
       " 'house_rules_host_indication': True,\n",
       " 'listing_personal_touches': False,\n",
       " 'entire_property': False,\n",
       " 'host_additional_services': False}"
      ]
     },
     "execution_count": 10,
     "metadata": {},
     "output_type": "execute_result"
    }
   ],
   "source": [
    "cleaned_features = clean_features(response.text)\n",
    "\n",
    "json.loads(cleaned_features)"
   ]
  },
  {
   "cell_type": "code",
   "execution_count": null,
   "id": "9b114074",
   "metadata": {},
   "outputs": [],
   "source": []
  },
  {
   "cell_type": "code",
   "execution_count": null,
   "id": "715ca510",
   "metadata": {},
   "outputs": [],
   "source": []
  },
  {
   "cell_type": "code",
   "execution_count": null,
   "id": "9bf9b565",
   "metadata": {},
   "outputs": [],
   "source": []
  }
 ],
 "metadata": {
  "kernelspec": {
   "display_name": "venv",
   "language": "python",
   "name": "python3"
  },
  "language_info": {
   "codemirror_mode": {
    "name": "ipython",
    "version": 3
   },
   "file_extension": ".py",
   "mimetype": "text/x-python",
   "name": "python",
   "nbconvert_exporter": "python",
   "pygments_lexer": "ipython3",
   "version": "3.10.9"
  }
 },
 "nbformat": 4,
 "nbformat_minor": 5
}
