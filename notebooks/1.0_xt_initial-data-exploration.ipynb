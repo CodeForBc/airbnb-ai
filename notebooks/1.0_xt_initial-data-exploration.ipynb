{
 "cells": [
  {
   "cell_type": "code",
   "execution_count": null,
   "metadata": {},
   "outputs": [],
   "source": [
    "import os\n",
    "from dotenv import load_dotenv\n",
    "import requests\n",
    "from pprint import pprint\n",
    "# Load environment variables from .env file\n",
    "load_dotenv()\n",
    "\n",
    "rapidapi_key = os.getenv('RAPIDAPI_KEY')\n",
    "# API call Search by location https://rapidapi.com/3b-data-3b-data-default/api/airbnb13/\n",
    "\n",
    "url = \"https://airbnb13.p.rapidapi.com/search-location\"\n",
    "\n",
    "# querystring = {\"location\":\"Vancouver\",\"checkin\":\"2025-01-12\",\"checkout\":\"2025-01-13\",\"adults\":\"2\",\"children\":\"0\",\"infants\":\"0\",\n",
    "               \"pets\":\"0\",\"page\":\"2\",\"currency\":\"CAD\"}\n",
    "\n",
    "headers = {\n",
    "\t\"x-rapidapi-key\": rapidapi_key,\n",
    "\t\"x-rapidapi-host\": \"airbnb13.p.rapidapi.com\",\n",
    "\t\"Content-Type\": \"application/json\"\n",
    "}\n",
    "response = requests.get(url, headers=headers, params=querystring)\n",
    "pprint(response.json())"
   ]
  }
 ],
 "metadata": {
  "language_info": {
   "name": "python"
  }
 },
 "nbformat": 4,
 "nbformat_minor": 2
}
